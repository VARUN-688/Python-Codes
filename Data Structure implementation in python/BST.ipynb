{
 "cells": [
  {
   "cell_type": "code",
   "execution_count": 12,
   "id": "9a2a7c30",
   "metadata": {},
   "outputs": [
    {
     "name": "stdout",
     "output_type": "stream",
     "text": [
      "3\n"
     ]
    }
   ],
   "source": [
    "class Node:\n",
    "    def __init__(self,data):\n",
    "        self.left=None\n",
    "        self.data=data\n",
    "        self.right=None\n",
    "class Tree:\n",
    "    search_path=\"\"\n",
    "    def create_node(self,data):\n",
    "        return Node(data)\n",
    "    def insert_node(self,node,data):\n",
    "        if node is None:\n",
    "            return self.create_node(data)\n",
    "        elif data<node.data:\n",
    "            node.left=self.insert_node(node.left,data)\n",
    "        else:            \n",
    "            node.right=self.insert_node(node.right,data)\n",
    "        return node\n",
    "    def inorder_traversal(self,root):\n",
    "        if root is not None:\n",
    "            self.inorder_traversal(root.left)\n",
    "            print(root.data)\n",
    "            self.inorder_traversal(root.right)\n",
    "    def postorder_traversal(self,root):\n",
    "        if root is not None:\n",
    "            self.inorder_traversal(root.left)\n",
    "            self.inorder_traversal(root.right)\n",
    "            print(root.data)\n",
    "    def preorder_traversal(self,root):\n",
    "        if root is not None:\n",
    "            print(root.data)\n",
    "            self.inorder_traversal(root.left)\n",
    "            self.inorder_traversal(root.right)\n",
    "    def search(self,root,data):\n",
    "        try:\n",
    "            if data==root.data:\n",
    "                self.search_path+=(\"->\"+str(root.data))\n",
    "                return \"data found and path = \"+self.search_path\n",
    "            elif data<root.data:\n",
    "                self.search_path+=(\"->\"+str(root.data))\n",
    "                return self.search(root.left,data)\n",
    "            elif data>root.data:\n",
    "                self.search_path+=(\"->\"+str(root.data))\n",
    "                return self.search(root.right,data)  \n",
    "        except:\n",
    "            return \"data not found and path followed = \"+ self.search_path\n",
    "    def height(self,root):\n",
    "        if root is None:\n",
    "            return -1\n",
    "        else:\n",
    "            return max(self.height(root.left),self.height(root.right))+1\n",
    "\n",
    "    \n",
    "            \n",
    "tree=Tree()\n",
    "# n=int(input(\"Enter the number of elements-> \"))\n",
    "# root=tree.insert_node(None,int(input(\"enter root element\")))\n",
    "# for i in range(n-1):\n",
    "#     tree.insert_node(root,int(input(\"enter the element \")))\n",
    "# tree.inorder_traversal(root)\n",
    "# tree.preorder_traversal(root)\n",
    "# tree.postorder_traversal(root)\n",
    "root=tree.insert_node(None,3)\n",
    "for x in [5,2,1,4,6,7]:\n",
    "    tree.insert_node(root,x)\n",
    "print(tree.height(root))"
   ]
  }
 ],
 "metadata": {
  "kernelspec": {
   "display_name": "Python 3 (ipykernel)",
   "language": "python",
   "name": "python3"
  },
  "language_info": {
   "codemirror_mode": {
    "name": "ipython",
    "version": 3
   },
   "file_extension": ".py",
   "mimetype": "text/x-python",
   "name": "python",
   "nbconvert_exporter": "python",
   "pygments_lexer": "ipython3",
   "version": "3.10.9"
  }
 },
 "nbformat": 4,
 "nbformat_minor": 5
}
