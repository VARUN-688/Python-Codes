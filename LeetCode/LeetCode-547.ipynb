{
 "cells": [
  {
   "cell_type": "code",
   "execution_count": 57,
   "id": "74f2303b",
   "metadata": {},
   "outputs": [
    {
     "name": "stdout",
     "output_type": "stream",
     "text": [
      "1\n"
     ]
    }
   ],
   "source": [
    "from typing import List\n",
    "class Solution:\n",
    "\n",
    "    def dfs(self,s,visited,arr,queue):\n",
    "        for j in range(len(arr[s])):\n",
    "            if arr[s][j]==1 and not j in self.nodes and s!=j and j not in queue:\n",
    "                visited.remove(j)\n",
    "                queue.insert(0,j)\n",
    "        self.nodes.append(s)\n",
    "    def traverse(self,s,visited,arr):\n",
    "            queue=[s]\n",
    "            while len(queue)>0:\n",
    "                self.dfs(queue.pop(0),visited,arr,queue)\n",
    "    def findCircleNum(self, isConnected: List[List[int]]) -> int:\n",
    "        self.nodes=[]\n",
    "        visited=[x for x in range(len(isConnected))]\n",
    "        g=0\n",
    "        while len(visited)>0:\n",
    "            g+=1\n",
    "            self.traverse(visited.pop(0),visited,isConnected)\n",
    "        return g\n",
    "                    \n",
    "s=Solution()\n",
    "print(s.findCircleNum(isConnected=[[1,1,1],[1,1,1],[1,1,1]]))\n"
   ]
  }
 ],
 "metadata": {
  "kernelspec": {
   "display_name": "Python 3 (ipykernel)",
   "language": "python",
   "name": "python3"
  },
  "language_info": {
   "codemirror_mode": {
    "name": "ipython",
    "version": 3
   },
   "file_extension": ".py",
   "mimetype": "text/x-python",
   "name": "python",
   "nbconvert_exporter": "python",
   "pygments_lexer": "ipython3",
   "version": "3.10.9"
  }
 },
 "nbformat": 4,
 "nbformat_minor": 5
}
